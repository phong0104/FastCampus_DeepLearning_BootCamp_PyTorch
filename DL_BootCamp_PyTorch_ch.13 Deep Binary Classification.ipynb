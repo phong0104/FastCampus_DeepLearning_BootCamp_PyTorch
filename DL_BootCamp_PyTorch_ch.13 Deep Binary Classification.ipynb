{
 "cells": [
  {
   "cell_type": "markdown",
   "id": "d4995e93",
   "metadata": {},
   "source": [
    "# 1. 데이터 준비"
   ]
  },
  {
   "cell_type": "code",
   "execution_count": 1,
   "id": "b44f23a6",
   "metadata": {},
   "outputs": [],
   "source": [
    "import numpy as np\n",
    "import pandas as pd\n",
    "import seaborn as sns\n",
    "import matplotlib.pyplot as plt\n",
    "from copy import deepcopy\n",
    "\n",
    "from sklearn.preprocessing import StandardScaler\n",
    "from sklearn.datasets import load_breast_cancer"
   ]
  },
  {
   "cell_type": "code",
   "execution_count": 2,
   "id": "0ab299bb",
   "metadata": {},
   "outputs": [],
   "source": [
    "cancer = load_breast_cancer()\n",
    "df = pd.DataFrame(cancer.data, columns=cancer.feature_names)\n",
    "df['class'] = cancer.target"
   ]
  },
  {
   "cell_type": "code",
   "execution_count": 5,
   "id": "15d5bce4",
   "metadata": {},
   "outputs": [],
   "source": [
    "import torch\n",
    "import torch.nn as nn\n",
    "import torch.nn.functional as F\n",
    "import torch.optim as optim"
   ]
  },
  {
   "cell_type": "markdown",
   "id": "1d9d5d51",
   "metadata": {},
   "source": [
    "데이터프레임의 넘파이 데이터를 파이토치 데이터로 변환하고 크기를 확인"
   ]
  },
  {
   "cell_type": "code",
   "execution_count": 4,
   "id": "b68b29ab",
   "metadata": {},
   "outputs": [
    {
     "name": "stdout",
     "output_type": "stream",
     "text": [
      "torch.Size([569, 30]) torch.Size([569, 1])\n"
     ]
    }
   ],
   "source": [
    "data = torch.from_numpy(df.values).float()\n",
    "\n",
    "x = data[:, :-1]\n",
    "y = data[:, -1:]\n",
    "\n",
    "print(x.shape, y.shape)"
   ]
  },
  {
   "cell_type": "markdown",
   "id": "a7ee5db8",
   "metadata": {},
   "source": [
    "학습/검증/테스트 데이터셋으로 나누기"
   ]
  },
  {
   "cell_type": "code",
   "execution_count": 7,
   "id": "0b111e7a",
   "metadata": {},
   "outputs": [
    {
     "name": "stdout",
     "output_type": "stream",
     "text": [
      "Train 341 / Valid 113 / Test 115 samples.\n"
     ]
    }
   ],
   "source": [
    "# Train / Valid / Test ratio\n",
    "ratios = [.6, .2, .2]\n",
    "\n",
    "train_cnt = int(data.size(0) * ratios[0])\n",
    "valid_cnt = int(data.size(0) * ratios[1])\n",
    "test_cnt = data.size(0) - train_cnt - valid_cnt\n",
    "cnts = [train_cnt, valid_cnt, test_cnt]\n",
    "\n",
    "print('Train %d / Valid %d / Test %d samples.' % (train_cnt, valid_cnt, test_cnt))"
   ]
  },
  {
   "cell_type": "markdown",
   "id": "f8d1d396",
   "metadata": {},
   "source": [
    "개수대로 랜덤하게 섞기"
   ]
  },
  {
   "cell_type": "code",
   "execution_count": 8,
   "id": "c83cdc81",
   "metadata": {},
   "outputs": [
    {
     "name": "stdout",
     "output_type": "stream",
     "text": [
      "torch.Size([341, 30]) torch.Size([341, 1])\n",
      "torch.Size([113, 30]) torch.Size([113, 1])\n",
      "torch.Size([115, 30]) torch.Size([115, 1])\n"
     ]
    }
   ],
   "source": [
    "indices = torch.randperm(data.size(0))\n",
    "\n",
    "x = torch.index_select(x, dim=0, index=indices)\n",
    "y = torch.index_select(y, dim=0, index=indices)\n",
    "\n",
    "x = x.split(cnts, dim=0)\n",
    "y = y.split(cnts, dim=0)\n",
    "\n",
    "for x_i, y_i in zip(x, y):\n",
    "    print(x_i.size(), y_i.size())"
   ]
  },
  {
   "cell_type": "markdown",
   "id": "805e7bc3",
   "metadata": {},
   "source": [
    "학습 데이터를 기준으로 표준 스케일링 적용"
   ]
  },
  {
   "cell_type": "code",
   "execution_count": 9,
   "id": "43514c3a",
   "metadata": {},
   "outputs": [],
   "source": [
    "scaler = StandardScaler()\n",
    "scaler.fit(x[0].numpy())\n",
    "\n",
    "x = [torch.from_numpy(scaler.transform(x[0].numpy())).float(),\n",
    "     torch.from_numpy(scaler.transform(x[1].numpy())).float(),\n",
    "     torch.from_numpy(scaler.transform(x[2].numpy())).float()]"
   ]
  },
  {
   "cell_type": "markdown",
   "id": "d9a048ce",
   "metadata": {},
   "source": [
    "# 2. 학습 코드 구현"
   ]
  },
  {
   "cell_type": "code",
   "execution_count": 10,
   "id": "7e383f24",
   "metadata": {},
   "outputs": [],
   "source": [
    "model = nn.Sequential(\n",
    "    nn.Linear(x[0].size(-1), 25),\n",
    "    nn.LeakyReLU(),\n",
    "    nn.Linear(25,20),\n",
    "    nn.LeakyReLU(),\n",
    "    nn.Linear(20,15),\n",
    "    nn.LeakyReLU(),\n",
    "    nn.Linear(15,10),\n",
    "    nn.LeakyReLU(),\n",
    "    nn.Linear(10,5),\n",
    "    nn.LeakyReLU(),\n",
    "    nn.Linear(5, y[0].size(-1)),\n",
    "    nn.Sigmoid(),\n",
    ")\n",
    "\n",
    "optimizer = optim.Adam(model.parameters())"
   ]
  },
  {
   "cell_type": "markdown",
   "id": "c4a50a1c",
   "metadata": {},
   "source": [
    "학습에 필요한 하이퍼파라미터를 설정"
   ]
  },
  {
   "cell_type": "code",
   "execution_count": 12,
   "id": "223ac24b",
   "metadata": {},
   "outputs": [],
   "source": [
    "n_epochs = 10000\n",
    "batch_size = 32\n",
    "print_interval = 10\n",
    "early_stop = 100\n",
    "lowest_loss = np.inf\n",
    "best_model = None\n",
    "lowest_epoch = np.inf"
   ]
  },
  {
   "cell_type": "markdown",
   "id": "9c41e19e",
   "metadata": {},
   "source": [
    "모델 학습 이터레이션을 진행\n",
    "- 손실함수를 BCE 함수를 사용 : F.binary_cross_entropy"
   ]
  },
  {
   "cell_type": "code",
   "execution_count": 13,
   "id": "80b1384f",
   "metadata": {},
   "outputs": [
    {
     "name": "stdout",
     "output_type": "stream",
     "text": [
      "Epoch 10: train loss=3.5458e-01 valid_loss=3.0042e-01 lowest_loss=3.9547e-01\n",
      "Epoch 20: train loss=6.4047e-02 valid_loss=4.0738e-02 lowest_loss=4.6600e-02\n",
      "Epoch 30: train loss=4.9899e-02 valid_loss=3.5826e-02 lowest_loss=3.6995e-02\n",
      "Epoch 40: train loss=4.6595e-02 valid_loss=2.6946e-02 lowest_loss=2.9728e-02\n",
      "Epoch 50: train loss=3.8743e-02 valid_loss=1.8002e-02 lowest_loss=1.8858e-02\n",
      "Epoch 60: train loss=2.8314e-02 valid_loss=1.6172e-02 lowest_loss=1.5692e-02\n",
      "Epoch 70: train loss=1.4460e-02 valid_loss=3.5138e-02 lowest_loss=1.5692e-02\n",
      "Epoch 80: train loss=4.4392e-03 valid_loss=6.0043e-02 lowest_loss=1.5692e-02\n",
      "Epoch 90: train loss=1.5988e-03 valid_loss=5.7685e-02 lowest_loss=1.5692e-02\n",
      "Epoch 100: train loss=8.3668e-04 valid_loss=6.3297e-02 lowest_loss=1.5692e-02\n",
      "Epoch 110: train loss=5.0230e-04 valid_loss=6.0855e-02 lowest_loss=1.5692e-02\n",
      "Epoch 120: train loss=3.4258e-04 valid_loss=6.2719e-02 lowest_loss=1.5692e-02\n",
      "Epoch 130: train loss=2.4647e-04 valid_loss=6.5540e-02 lowest_loss=1.5692e-02\n",
      "Epoch 140: train loss=1.8497e-04 valid_loss=6.7080e-02 lowest_loss=1.5692e-02\n",
      "Epoch 150: train loss=1.4423e-04 valid_loss=6.8697e-02 lowest_loss=1.5692e-02\n",
      "There is no improvement during last 100 epochs.\n",
      "The best validation loss from epoch 59: 1.5692e-02\n"
     ]
    },
    {
     "data": {
      "text/plain": [
       "<All keys matched successfully>"
      ]
     },
     "execution_count": 13,
     "metadata": {},
     "output_type": "execute_result"
    }
   ],
   "source": [
    "train_history, valid_history = [], []\n",
    "\n",
    "for i in range(n_epochs):\n",
    "    indices = torch.randperm(x[0].size(0))\n",
    "    x_ = torch.index_select(x[0], dim=0, index=indices)\n",
    "    y_ = torch.index_select(y[0], dim=0, index=indices)\n",
    "    \n",
    "    x_ = x_.split(batch_size, dim=0)\n",
    "    y_ = y_.split(batch_size, dim=0)\n",
    "    \n",
    "    train_loss, valid_loss = 0, 0\n",
    "    y_hat = []\n",
    "    \n",
    "    for x_i, y_i in zip(x_, y_):\n",
    "        y_hat_i = model(x_i)\n",
    "        loss = F.binary_cross_entropy(y_hat_i, y_i)\n",
    "        \n",
    "        optimizer.zero_grad()\n",
    "        loss.backward()\n",
    "        \n",
    "        optimizer.step()\n",
    "        train_loss += float(loss)\n",
    "        \n",
    "    train_loss = train_loss / len(x_)\n",
    "    \n",
    "    with torch.no_grad():\n",
    "        x_ = x[1].split(batch_size, dim=0)\n",
    "        y_ = y[1].split(batch_size, dim=0)\n",
    "        \n",
    "        valid_loss = 0\n",
    "        \n",
    "        for x_i, y_i in zip(x_, y_):\n",
    "            y_hat_i = model(x_i)\n",
    "            loss = F.binary_cross_entropy(y_hat_i, y_i)\n",
    "            \n",
    "            valid_loss += float(loss)\n",
    "            \n",
    "            y_hat += [y_hat_i]\n",
    "            \n",
    "    valid_loss = valid_loss / len(x_)\n",
    "    \n",
    "    train_history += [train_loss]\n",
    "    valid_history += [valid_loss]\n",
    "    \n",
    "    if (i + 1) % print_interval == 0:\n",
    "        print('Epoch %d: train loss=%.4e valid_loss=%.4e lowest_loss=%.4e' % \n",
    "              (i+1, train_loss, valid_loss, lowest_loss))\n",
    "        \n",
    "    if valid_loss <= lowest_loss:\n",
    "        lowest_loss = valid_loss\n",
    "        lowest_epoch = i\n",
    "        \n",
    "        best_model = deepcopy(model.state_dict())\n",
    "        \n",
    "    else:\n",
    "        if early_stop > 0 and lowest_epoch + early_stop < i+1:\n",
    "            print('There is no improvement during last %d epochs.' % early_stop)\n",
    "            break\n",
    "            \n",
    "print('The best validation loss from epoch %d: %.4e' % (lowest_epoch + 1, lowest_loss))\n",
    "model.load_state_dict(best_model)"
   ]
  },
  {
   "cell_type": "markdown",
   "id": "3240dd8b",
   "metadata": {},
   "source": [
    "# 3. 손실 곡선 확인"
   ]
  },
  {
   "cell_type": "code",
   "execution_count": 14,
   "id": "b72f6dcf",
   "metadata": {},
   "outputs": [
    {
     "data": {
      "image/png": "[encoded data removed]",
      "text/plain": [
       "<Figure size 1440x720 with 1 Axes>"
      ]
     },
     "metadata": {
      "needs_background": "light"
     },
     "output_type": "display_data"
    }
   ],
   "source": [
    "plot_from = 2\n",
    "\n",
    "plt.figure(figsize=(20,10))\n",
    "plt.grid(True)\n",
    "plt.title('Train / Valid Loss History')\n",
    "plt.plot(\n",
    "    range(plot_from, len(train_history)), train_history[plot_from:],\n",
    "    range(plot_from, len(valid_history)), valid_history[plot_from:],\n",
    ")\n",
    "plt.yscale('log')\n",
    "plt.show()"
   ]
  },
  {
   "cell_type": "markdown",
   "id": "1b08f241",
   "metadata": {},
   "source": [
    "# 4. 결과 확인"
   ]
  },
  {
   "cell_type": "code",
   "execution_count": 17,
   "id": "538d35f5",
   "metadata": {},
   "outputs": [
    {
     "name": "stdout",
     "output_type": "stream",
     "text": [
      "Train loss: 2.6505e-02\n",
      "Valid loss: 1.5692e-02\n",
      "Test loss: e\n"
     ]
    }
   ],
   "source": [
    "test_loss = 0\n",
    "y_hat = []\n",
    "\n",
    "with torch.no_grad():\n",
    "    x_ = x[2].split(batch_size, dim=0)\n",
    "    y_ = y[2].split(batch_size, dim=0)\n",
    "    \n",
    "    for x_i, y_i in zip(x_, y_):\n",
    "        y_hat_i = model(x_i)\n",
    "        loss = F.binary_cross_entropy(y_hat_i, y_i)\n",
    "        \n",
    "        test_loss += loss # Gradient is already detached\n",
    "        \n",
    "        y_hat += [y_hat_i]\n",
    "        \n",
    "test_loss = test_loss / len(x_)\n",
    "y_hat = torch.cat(y_hat, dim=0)\n",
    "\n",
    "sorted_history = sorted(zip(train_history, valid_history),\n",
    "                       key = lambda x:x[1])\n",
    "\n",
    "print('Train loss: %.4e' % sorted_history[0][0])\n",
    "print('Valid loss: %.4e' % sorted_history[0][1])\n",
    "print('Test loss: %.re' % test_loss)"
   ]
  },
  {
   "cell_type": "markdown",
   "id": "19db7dfb",
   "metadata": {},
   "source": [
    "일반적인 회귀가 아닌 분류이기 때문에 정확도도 계산 가능\n",
    "- 모델의 예측값이 0.5보다 클 경우에 1로 예측한 것으로 가정\n",
    "- 0.5보다 작거나 같은 경우에는 0으로 예측한 것이라 가정"
   ]
  },
  {
   "cell_type": "code",
   "execution_count": 16,
   "id": "50e25b76",
   "metadata": {},
   "outputs": [
    {
     "name": "stdout",
     "output_type": "stream",
     "text": [
      "Test Accuracy: 0.9826\n"
     ]
    }
   ],
   "source": [
    "correct_cnt = (y[2] == (y_hat >.5)).sum()\n",
    "total_cnt = float(y[2].size(0))\n",
    "\n",
    "print('Test Accuracy: %.4f' % (correct_cnt/total_cnt))"
   ]
  },
  {
   "cell_type": "markdown",
   "id": "307184f1",
   "metadata": {},
   "source": [
    "예측값의 분포 확인"
   ]
  },
  {
   "cell_type": "code",
   "execution_count": 18,
   "id": "1a83d8d0",
   "metadata": {},
   "outputs": [
    {
     "data": {
      "image/png": "[encoded data removed]",
      "text/plain": [
       "<Figure size 432x288 with 1 Axes>"
      ]
     },
     "metadata": {
      "needs_background": "light"
     },
     "output_type": "display_data"
    }
   ],
   "source": [
    "df = pd.DataFrame(torch.cat([y[2],y_hat], dim=1).detach().numpy(), columns=['y', 'y_hat'])\n",
    "\n",
    "sns.histplot(df, x='y_hat', hue='y', bins=50, stat='probability')\n",
    "plt.show()"
   ]
  },
  {
   "cell_type": "code",
   "execution_count": 19,
   "id": "e537fc41",
   "metadata": {},
   "outputs": [
    {
     "data": {
      "text/plain": [
       "0.9996666666666667"
      ]
     },
     "execution_count": 19,
     "metadata": {},
     "output_type": "execute_result"
    }
   ],
   "source": [
    "from sklearn.metrics import roc_auc_score\n",
    "\n",
    "roc_auc_score(df.values[:, 0], df.values[:, -1])"
   ]
  },
  {
   "cell_type": "code",
   "execution_count": null,
   "id": "c1b64d0d",
   "metadata": {},
   "outputs": [],
   "source": []
  }
 ],
 "metadata": {
  "kernelspec": {
   "display_name": "Python 3 (ipykernel)",
   "language": "python",
   "name": "python3"
  },
  "language_info": {
   "codemirror_mode": {
    "name": "ipython",
    "version": 3
   },
   "file_extension": ".py",
   "mimetype": "text/x-python",
   "name": "python",
   "nbconvert_exporter": "python",
   "pygments_lexer": "ipython3",
   "version": "3.9.12"
  }
 },
 "nbformat": 4,
 "nbformat_minor": 5
}
